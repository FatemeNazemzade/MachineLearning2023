{
  "nbformat": 4,
  "nbformat_minor": 0,
  "metadata": {
    "colab": {
      "provenance": []
    },
    "kernelspec": {
      "name": "python3",
      "display_name": "Python 3"
    },
    "language_info": {
      "name": "python"
    }
  },
  "cells": [
    {
      "cell_type": "markdown",
      "source": [
        "### **Question 1**"
      ],
      "metadata": {
        "id": "76jIW7wooQd-"
      }
    },
    {
      "cell_type": "code",
      "execution_count": null,
      "metadata": {
        "colab": {
          "base_uri": "https://localhost:8080/"
        },
        "id": "JokpTSySnx3g",
        "outputId": "811df435-eecf-4915-f036-c507f5635c55"
      },
      "outputs": [
        {
          "output_type": "stream",
          "name": "stdout",
          "text": [
            "Please enter your age:18\n",
            "You are an adult.\n"
          ]
        }
      ],
      "source": [
        "age = int(input(\"Enter your age:\"))\n",
        "if age >= 18:\n",
        "  print(\"You are an adult.\")\n",
        "else:\n",
        "  print(\"You are a minor.\")"
      ]
    },
    {
      "cell_type": "markdown",
      "source": [
        "### **Question 2**"
      ],
      "metadata": {
        "id": "tkCms2e_o2J-"
      }
    },
    {
      "cell_type": "code",
      "source": [
        "for i in range(1,11):\n",
        "  print(i)"
      ],
      "metadata": {
        "colab": {
          "base_uri": "https://localhost:8080/"
        },
        "id": "M5duraDWouwF",
        "outputId": "d5ee8730-c891-4cca-fc3a-a5c0cd11b8ed"
      },
      "execution_count": null,
      "outputs": [
        {
          "output_type": "stream",
          "name": "stdout",
          "text": [
            "1\n",
            "2\n",
            "3\n",
            "4\n",
            "5\n",
            "6\n",
            "7\n",
            "8\n",
            "9\n",
            "10\n"
          ]
        }
      ]
    },
    {
      "cell_type": "markdown",
      "source": [
        "**Question 3**"
      ],
      "metadata": {
        "id": "TMCgUE4gpI0A"
      }
    },
    {
      "cell_type": "code",
      "source": [
        "sum = 0\n",
        "i = 0\n",
        "while i <= 20:\n",
        "  i = i + 1\n",
        "  if i % 2 == 0:\n",
        "    sum = sum + i\n",
        "print(sum)"
      ],
      "metadata": {
        "colab": {
          "base_uri": "https://localhost:8080/"
        },
        "id": "obrqX3RDpr86",
        "outputId": "fa097dbe-4072-4743-c3e1-ddba6541467d"
      },
      "execution_count": null,
      "outputs": [
        {
          "output_type": "stream",
          "name": "stdout",
          "text": [
            "110\n"
          ]
        }
      ]
    },
    {
      "cell_type": "markdown",
      "source": [
        "**Question 4**"
      ],
      "metadata": {
        "id": "v974m50Wr6a3"
      }
    },
    {
      "cell_type": "code",
      "source": [
        "def multiply(x,y):\n",
        "  result = x*y\n",
        "  print(\"result is\",result)\n",
        "a = float(input(\"enter the number 1: \"))\n",
        "b = float(input(\"enter the number 2: \"))\n",
        "multiply(a,b)"
      ],
      "metadata": {
        "colab": {
          "base_uri": "https://localhost:8080/"
        },
        "id": "lixxr_KZr_lz",
        "outputId": "218a7b4d-27ff-4439-99c4-1b0b2a6bdf08"
      },
      "execution_count": null,
      "outputs": [
        {
          "output_type": "stream",
          "name": "stdout",
          "text": [
            "enter the number 1: 3\n",
            "enter the number 2: 5\n",
            "result is 15.0\n"
          ]
        }
      ]
    },
    {
      "cell_type": "markdown",
      "source": [
        "**Question 5**"
      ],
      "metadata": {
        "id": "w_xqm6_-t9yh"
      }
    },
    {
      "cell_type": "code",
      "source": [
        "class Person:\n",
        "  def __init__(self,name,age):\n",
        "    self.name = name\n",
        "    self.age = age\n",
        "\n",
        "  def Name(self):\n",
        "    print(f\"Name: {self.name}\")\n",
        "\n",
        "  def Age(self):\n",
        "    print(f\"Age: {self.age}\")\n",
        "\n",
        "name = input(\"Enter the name: \")\n",
        "age = input(\"Enter the age: \")\n",
        "\n",
        "x = Person(name,age)\n",
        "x.Name()\n",
        "x.Age()"
      ],
      "metadata": {
        "colab": {
          "base_uri": "https://localhost:8080/"
        },
        "id": "qjEkaA3mtGJm",
        "outputId": "0bc85371-6841-4185-9131-a0a8980618ad"
      },
      "execution_count": null,
      "outputs": [
        {
          "output_type": "stream",
          "name": "stdout",
          "text": [
            "Enter the name: Alice\n",
            "Enter the age: 25\n",
            "Name: Alice\n",
            "Age: 25\n"
          ]
        }
      ]
    },
    {
      "cell_type": "markdown",
      "source": [
        "**Question 6**"
      ],
      "metadata": {
        "id": "Qo3UTfmfwsAt"
      }
    },
    {
      "cell_type": "code",
      "source": [
        "class Student(Person):\n",
        "  def __init__(self,name,age,ID):\n",
        "    self.ID = ID\n",
        "    super().__init__(name , age)\n",
        "\n",
        "  def St_ID(self):\n",
        "    print(f\"Student ID: {self.ID}\")\n",
        "\n",
        "name = input(\"Enter the name: \")\n",
        "age = input(\"Enter the age: \")\n",
        "ST_ID = input(\"Enter the Student ID: \")\n",
        "\n",
        "x = Person(name,age,ST_ID)\n",
        "x.Name()\n",
        "x.Age()\n",
        "x.St_ID()"
      ],
      "metadata": {
        "colab": {
          "base_uri": "https://localhost:8080/"
        },
        "id": "EVaiZca6wFqu",
        "outputId": "c705f016-d36b-4cb2-8817-2ac85a558ac4"
      },
      "execution_count": null,
      "outputs": [
        {
          "output_type": "stream",
          "name": "stdout",
          "text": [
            "Enter the name: Bob\n",
            "Enter the age: 20\n",
            "Enter the Student ID: 12345\n",
            "Name: Bob\n",
            "Age: 20\n",
            "Student ID: 12345\n"
          ]
        }
      ]
    },
    {
      "cell_type": "markdown",
      "source": [
        "**Question 7**"
      ],
      "metadata": {
        "id": "7-ueVYs_yhYU"
      }
    },
    {
      "cell_type": "code",
      "source": [
        "def is_prime(num):\n",
        "  x = 0\n",
        "  for i in range(1 , num+1):\n",
        "    if num % i == 0:\n",
        "     x += 1\n",
        "  if x == 2:\n",
        "    print(\"True\")\n",
        "  else:\n",
        "    print(\"False\")\n",
        "\n",
        "num = int(input(\"Enter an integer: \"))\n",
        "is_prime(num)"
      ],
      "metadata": {
        "colab": {
          "base_uri": "https://localhost:8080/"
        },
        "id": "X0fzoQF3x333",
        "outputId": "85b48e08-af32-4ed9-c92f-ee4a1dec4842"
      },
      "execution_count": null,
      "outputs": [
        {
          "output_type": "stream",
          "name": "stdout",
          "text": [
            "Enter an integer: 13\n",
            "True\n"
          ]
        }
      ]
    },
    {
      "cell_type": "markdown",
      "source": [
        "**Question 8**"
      ],
      "metadata": {
        "id": "v6j76Be60ONk"
      }
    },
    {
      "cell_type": "code",
      "source": [
        "def factorial(n):\n",
        "    if n == 0:\n",
        "        return 1\n",
        "    else:\n",
        "        return n * factorial(n-1)\n",
        "\n",
        "number = int(input(\"Enter integer number: \"))\n",
        "result = factorial(number)\n",
        "print(\"Factorial of {} is: {}\".format(number, result))\n"
      ],
      "metadata": {
        "colab": {
          "base_uri": "https://localhost:8080/"
        },
        "id": "oyHWtUuT0PJX",
        "outputId": "d50e65d4-6ff5-49dd-8921-fdab151ce6ba"
      },
      "execution_count": null,
      "outputs": [
        {
          "output_type": "stream",
          "name": "stdout",
          "text": [
            "Enter integer number: 10\n",
            "Factorial of 10 is: 3628800\n"
          ]
        }
      ]
    },
    {
      "cell_type": "markdown",
      "source": [
        "**Question 9**"
      ],
      "metadata": {
        "id": "8WeNRUxs7gxV"
      }
    },
    {
      "cell_type": "code",
      "source": [
        "class Rectangle:\n",
        "  def __init__(self,width,height):\n",
        "    self.height = height\n",
        "    self.width = width\n",
        "\n",
        "  def calculate_area(self):\n",
        "    area = self.width*self.height\n",
        "    print(\"Area of the rectangle: \",area)\n",
        "\n",
        "w = float(input(\"enter the width: \"))\n",
        "h = float(input(\"enter the height: \"))\n",
        "\n",
        "x = Rectangle(w,h)\n",
        "x.calculate_area()"
      ],
      "metadata": {
        "colab": {
          "base_uri": "https://localhost:8080/"
        },
        "id": "RLhzak2H58ch",
        "outputId": "3be04754-4f8d-413c-ab7c-75bc26b0b590"
      },
      "execution_count": null,
      "outputs": [
        {
          "output_type": "stream",
          "name": "stdout",
          "text": [
            "enter the width: 4\n",
            "enter the height: 5\n",
            "Area of the rectangle:  20.0\n"
          ]
        }
      ]
    },
    {
      "cell_type": "markdown",
      "source": [
        "**Question 10**"
      ],
      "metadata": {
        "id": "4PtN9Rg19YKl"
      }
    },
    {
      "cell_type": "code",
      "source": [
        "class Square(Rectangle):\n",
        "  def __init__(self,width,height):\n",
        "    super().__init__(width , height)\n",
        "\n",
        "  def calculate_perimeter(self):\n",
        "    perimeter = (self.width + self.height)*2\n",
        "    print(\"Perimeter of the rectangle: \",perimeter)\n",
        "\n",
        "w = float(input(\"enter the width: \"))\n",
        "h = float(input(\"enter the height: \"))\n",
        "\n",
        "y = Square(w,h)\n",
        "y.calculate_perimeter()"
      ],
      "metadata": {
        "colab": {
          "base_uri": "https://localhost:8080/"
        },
        "id": "Hot7y8vh9JT3",
        "outputId": "629bd950-9c3e-4afe-cf23-d39265fbc4c6"
      },
      "execution_count": null,
      "outputs": [
        {
          "output_type": "stream",
          "name": "stdout",
          "text": [
            "enter the width: 4\n",
            "enter the height: 5\n",
            "Perimeter of the rectangle:  18.0\n"
          ]
        }
      ]
    },
    {
      "cell_type": "markdown",
      "source": [
        "**Question 11**"
      ],
      "metadata": {
        "id": "uVm-k0LxCJl8"
      }
    },
    {
      "cell_type": "code",
      "source": [
        "class Animal:\n",
        "    def __init__(self, name, species):\n",
        "        self.name = name\n",
        "        self.species = species\n",
        "\n",
        "    def speak(self):\n",
        "        print(f\"The {self.species} named {self.name} makes a sound.\")\n",
        "\n",
        "x = Animal(\"Jessy\", \"Dog\")\n",
        "x.speak()"
      ],
      "metadata": {
        "id": "ggvtB2CnB9__",
        "colab": {
          "base_uri": "https://localhost:8080/"
        },
        "outputId": "411526ba-09e1-4194-b377-94ccfab0d73d"
      },
      "execution_count": 1,
      "outputs": [
        {
          "output_type": "stream",
          "name": "stdout",
          "text": [
            "The Dog named Jessy makes a sound.\n"
          ]
        }
      ]
    },
    {
      "cell_type": "markdown",
      "source": [
        "**Question 12**"
      ],
      "metadata": {
        "id": "egnNWRGyC1WV"
      }
    },
    {
      "cell_type": "code",
      "source": [
        "class Animal:\n",
        "    def __init__(self, name, species):\n",
        "        self.name = name\n",
        "        self.species = species\n",
        "\n",
        "    def speak(self):\n",
        "        print(f\"The {self.species} named {self.name} makes a sound.\")\n",
        "\n",
        "class Dog(Animal):\n",
        "    def __init__(self, name, breed):\n",
        "        super().__init__(name, species=\"Dog\")\n",
        "        self.breed = breed\n",
        "\n",
        "    def speak(self):\n",
        "        print(f\"{self.name} the {self.breed} says 'Woof!'\")\n",
        "\n",
        "x = Dog(\"Buddy\", \"Golden Retriever\")\n",
        "x.speak()"
      ],
      "metadata": {
        "id": "fzmwhtoaC4d8",
        "colab": {
          "base_uri": "https://localhost:8080/"
        },
        "outputId": "fcbe0dea-f170-4eb8-ecc6-26085452ca5a"
      },
      "execution_count": 2,
      "outputs": [
        {
          "output_type": "stream",
          "name": "stdout",
          "text": [
            "Buddy the Golden Retriever says 'Woof!'\n"
          ]
        }
      ]
    },
    {
      "cell_type": "markdown",
      "source": [
        "**Question 13**"
      ],
      "metadata": {
        "id": "lxeCQiRTC-JC"
      }
    },
    {
      "cell_type": "code",
      "source": [
        "class Animal:\n",
        "    def __init__(self, name, species):\n",
        "        self.name = name\n",
        "        self.species = species\n",
        "\n",
        "    def speak(self):\n",
        "        print(f\"The {self.species} named {self.name} makes a sound.\")\n",
        "\n",
        "class Dog(Animal):\n",
        "    def __init__(self, name, breed):\n",
        "        super().__init__(name, species=\"Dog\")\n",
        "        self.breed = breed\n",
        "\n",
        "    def speak(self):\n",
        "        print(f\"{self.name} the {self.breed} says 'Woof!'\")\n",
        "\n",
        "class Cat(Animal):\n",
        "    def __init__(self, name, color):\n",
        "        super().__init__(name, species=\"Cat\")\n",
        "        self.color = color\n",
        "\n",
        "    def speak(self):\n",
        "        print(f\"{self.name} the {self.color} cat says 'Meow!'\")\n",
        "\n",
        "x = Cat(\"Whiskers\", \"Tabby\")\n",
        "x.speak()\n"
      ],
      "metadata": {
        "id": "_xMoeqGgC_aL",
        "colab": {
          "base_uri": "https://localhost:8080/"
        },
        "outputId": "ea5b8e3e-1dc7-45da-de96-b6ae5f7485a0"
      },
      "execution_count": 4,
      "outputs": [
        {
          "output_type": "stream",
          "name": "stdout",
          "text": [
            "Whiskers the Tabby cat says 'Meow!'\n"
          ]
        }
      ]
    },
    {
      "cell_type": "markdown",
      "source": [
        "**Question 14**"
      ],
      "metadata": {
        "id": "Q256gIFtDASd"
      }
    },
    {
      "cell_type": "code",
      "source": [
        "class Animal:\n",
        "    def __init__(self, name, species):\n",
        "        self.name = name\n",
        "        self.species = species\n",
        "\n",
        "    def speak(self):\n",
        "        print(f\"The {self.species} named {self.name} makes a sound.\")\n",
        "\n",
        "class Dog(Animal):\n",
        "    def __init__(self, name, breed):\n",
        "        super().__init__(name, species=\"Dog\")\n",
        "        self.breed = breed\n",
        "\n",
        "    def speak(self):\n",
        "        print(f\"{self.name} the {self.breed} says 'Woof!'\")\n",
        "\n",
        "class Cat(Animal):\n",
        "    def __init__(self, name, color):\n",
        "        super().__init__(name, species=\"Cat\")\n",
        "        self.color = color\n",
        "\n",
        "    def speak(self):\n",
        "        print(f\"{self.name} the {self.color} cat says 'Meow!'\")\n",
        "\n",
        "x = Dog(\"Buddy\", \"Golden Retriever\")\n",
        "x = Cat(\"Whiskers\", \"Tabby\")\n",
        "\n",
        "x.speak()\n",
        "x.speak()\n"
      ],
      "metadata": {
        "id": "xBdVZsnwDB5i",
        "colab": {
          "base_uri": "https://localhost:8080/"
        },
        "outputId": "d3324e9f-b722-438c-84cf-d4b920e080a1"
      },
      "execution_count": 5,
      "outputs": [
        {
          "output_type": "stream",
          "name": "stdout",
          "text": [
            "Whiskers the Tabby cat says 'Meow!'\n",
            "Whiskers the Tabby cat says 'Meow!'\n"
          ]
        }
      ]
    },
    {
      "cell_type": "code",
      "source": [],
      "metadata": {
        "id": "IrE6SgqOAPxt"
      },
      "execution_count": null,
      "outputs": []
    }
  ]
}